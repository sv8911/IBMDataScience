{
 "cells": [
  {
   "cell_type": "markdown",
   "id": "8f1b0115",
   "metadata": {},
   "source": [
    "# H1: Data Science Tools and Ecosystem"
   ]
  },
  {
   "cell_type": "code",
   "execution_count": null,
   "id": "99803502",
   "metadata": {},
   "outputs": [],
   "source": []
  },
  {
   "cell_type": "markdown",
   "id": "c9cb664e",
   "metadata": {},
   "source": [
    "In this notebook, Data Science Tools and Ecosystem are summarized:\n",
    "\n",
    "\n",
    "The data science tool and ecosystem encompass data collection, preprocessing, visualization, statistical analysis, machine learning, deep learning, big data processing, ETL, cloud platforms, and version control for comprehensive data analysis and AI development."
   ]
  },
  {
   "cell_type": "code",
   "execution_count": null,
   "id": "801c4d3a",
   "metadata": {},
   "outputs": [],
   "source": []
  },
  {
   "cell_type": "markdown",
   "id": "dc3a70b3",
   "metadata": {},
   "source": [
    "Some of the popular languages that Data Scientists use are:\n",
    "1. Python\n",
    "2. R\n",
    "3. Julia\n"
   ]
  },
  {
   "cell_type": "code",
   "execution_count": null,
   "id": "1f8a4a90",
   "metadata": {},
   "outputs": [],
   "source": []
  },
  {
   "cell_type": "markdown",
   "id": "d1dba167",
   "metadata": {},
   "source": [
    "Some of the commonly used libraries used by Data Scientists include:\n",
    "\n",
    "1.TensorFlow\n",
    "\n",
    "2.NumPy\n",
    "\n",
    "3.SciPy\n"
   ]
  },
  {
   "cell_type": "code",
   "execution_count": null,
   "id": "358afbb8",
   "metadata": {},
   "outputs": [],
   "source": []
  },
  {
   "cell_type": "markdown",
   "id": "052520d2",
   "metadata": {},
   "source": [
    "| data science tool |\n",
    "| --------------- |\n",
    "| seaborn |\n",
    "| python |\n",
    "| scikit |"
   ]
  },
  {
   "cell_type": "code",
   "execution_count": null,
   "id": "4ae4ca3f",
   "metadata": {},
   "outputs": [],
   "source": []
  },
  {
   "cell_type": "markdown",
   "id": "6ff310d8",
   "metadata": {},
   "source": [
    "# H1: Below are a few examples of evaluating arithmetic expressions in Python:\n",
    "# a+b=c"
   ]
  },
  {
   "cell_type": "code",
   "execution_count": null,
   "id": "a19d0a5b",
   "metadata": {},
   "outputs": [],
   "source": []
  },
  {
   "cell_type": "code",
   "execution_count": 7,
   "id": "aebb3589",
   "metadata": {},
   "outputs": [
    {
     "name": "stdout",
     "output_type": "stream",
     "text": [
      "17\n"
     ]
    }
   ],
   "source": [
    "#code for evaluating (3*4)+5\n",
    "a=3\n",
    "b=4\n",
    "c=5\n",
    "print((a*b)+c)"
   ]
  },
  {
   "cell_type": "code",
   "execution_count": null,
   "id": "f2f8542c",
   "metadata": {},
   "outputs": [],
   "source": []
  },
  {
   "cell_type": "code",
   "execution_count": 10,
   "id": "df567d40",
   "metadata": {},
   "outputs": [
    {
     "name": "stdout",
     "output_type": "stream",
     "text": [
      "3.3333333333333335\n"
     ]
    }
   ],
   "source": [
    "#Create a code cell to convert minutes to hours 200 to hours\n",
    "mins=200\n",
    "b=60\n",
    "hours=mins/60\n",
    "print(hours)"
   ]
  },
  {
   "cell_type": "code",
   "execution_count": null,
   "id": "7a67adb6",
   "metadata": {},
   "outputs": [],
   "source": []
  },
  {
   "cell_type": "markdown",
   "id": "8ab32b36",
   "metadata": {},
   "source": [
    "**Objectives:**\n",
    "-Python\n",
    "\n",
    "-R\n",
    "\n",
    "-Julia\n",
    "\n",
    "-scala\n",
    "\n",
    "-java"
   ]
  },
  {
   "cell_type": "code",
   "execution_count": null,
   "id": "d4917af6",
   "metadata": {},
   "outputs": [],
   "source": []
  },
  {
   "cell_type": "markdown",
   "id": "1013d9a1",
   "metadata": {},
   "source": [
    "## Author\n",
    "Shreya Abraham Varghese"
   ]
  },
  {
   "cell_type": "code",
   "execution_count": null,
   "id": "b1b6f35d",
   "metadata": {},
   "outputs": [],
   "source": []
  }
 ],
 "metadata": {
  "kernelspec": {
   "display_name": "Python 3 (ipykernel)",
   "language": "python",
   "name": "python3"
  },
  "language_info": {
   "codemirror_mode": {
    "name": "ipython",
    "version": 3
   },
   "file_extension": ".py",
   "mimetype": "text/x-python",
   "name": "python",
   "nbconvert_exporter": "python",
   "pygments_lexer": "ipython3",
   "version": "3.9.7"
  }
 },
 "nbformat": 4,
 "nbformat_minor": 5
}
